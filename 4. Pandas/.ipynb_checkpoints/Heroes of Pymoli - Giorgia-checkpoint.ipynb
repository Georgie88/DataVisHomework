{
 "cells": [
  {
   "cell_type": "code",
   "execution_count": 1,
   "metadata": {
    "collapsed": true
   },
   "outputs": [],
   "source": [
    "#import dependencies\n",
    "import pandas as pd\n"
   ]
  },
  {
   "cell_type": "code",
   "execution_count": 17,
   "metadata": {
    "collapsed": true
   },
   "outputs": [],
   "source": [
    "#determine the file path\n",
    "file_name = 'HeroesOfPymoli/purchase_data.json'\n",
    "file_name2 = 'HeroesOfPymoli/purchase_data2.json'"
   ]
  },
  {
   "cell_type": "code",
   "execution_count": 18,
   "metadata": {},
   "outputs": [
    {
     "data": {
      "text/html": [
       "<div>\n",
       "<style>\n",
       "    .dataframe thead tr:only-child th {\n",
       "        text-align: right;\n",
       "    }\n",
       "\n",
       "    .dataframe thead th {\n",
       "        text-align: left;\n",
       "    }\n",
       "\n",
       "    .dataframe tbody tr th {\n",
       "        vertical-align: top;\n",
       "    }\n",
       "</style>\n",
       "<table border=\"1\" class=\"dataframe\">\n",
       "  <thead>\n",
       "    <tr style=\"text-align: right;\">\n",
       "      <th></th>\n",
       "      <th>Age</th>\n",
       "      <th>Gender</th>\n",
       "      <th>Item ID</th>\n",
       "      <th>Item Name</th>\n",
       "      <th>Price</th>\n",
       "      <th>SN</th>\n",
       "    </tr>\n",
       "  </thead>\n",
       "  <tbody>\n",
       "    <tr>\n",
       "      <th>0</th>\n",
       "      <td>20</td>\n",
       "      <td>Male</td>\n",
       "      <td>93</td>\n",
       "      <td>Apocalyptic Battlescythe</td>\n",
       "      <td>4.49</td>\n",
       "      <td>Iloni35</td>\n",
       "    </tr>\n",
       "    <tr>\n",
       "      <th>1</th>\n",
       "      <td>21</td>\n",
       "      <td>Male</td>\n",
       "      <td>12</td>\n",
       "      <td>Dawne</td>\n",
       "      <td>3.36</td>\n",
       "      <td>Aidaira26</td>\n",
       "    </tr>\n",
       "    <tr>\n",
       "      <th>2</th>\n",
       "      <td>17</td>\n",
       "      <td>Male</td>\n",
       "      <td>5</td>\n",
       "      <td>Putrid Fan</td>\n",
       "      <td>2.63</td>\n",
       "      <td>Irim47</td>\n",
       "    </tr>\n",
       "    <tr>\n",
       "      <th>3</th>\n",
       "      <td>17</td>\n",
       "      <td>Male</td>\n",
       "      <td>123</td>\n",
       "      <td>Twilight's Carver</td>\n",
       "      <td>2.55</td>\n",
       "      <td>Irith83</td>\n",
       "    </tr>\n",
       "    <tr>\n",
       "      <th>4</th>\n",
       "      <td>22</td>\n",
       "      <td>Male</td>\n",
       "      <td>154</td>\n",
       "      <td>Feral Katana</td>\n",
       "      <td>4.11</td>\n",
       "      <td>Philodil43</td>\n",
       "    </tr>\n",
       "  </tbody>\n",
       "</table>\n",
       "</div>"
      ],
      "text/plain": [
       "   Age Gender  Item ID                 Item Name  Price          SN\n",
       "0   20   Male       93  Apocalyptic Battlescythe   4.49     Iloni35\n",
       "1   21   Male       12                     Dawne   3.36   Aidaira26\n",
       "2   17   Male        5                Putrid Fan   2.63      Irim47\n",
       "3   17   Male      123         Twilight's Carver   2.55     Irith83\n",
       "4   22   Male      154              Feral Katana   4.11  Philodil43"
      ]
     },
     "execution_count": 18,
     "metadata": {},
     "output_type": "execute_result"
    }
   ],
   "source": [
    "#open the file\n",
    "purchase_data_df = pd.read_json(file_name)\n",
    "purchase_data2_df = pd.read_json(file_name2)\n",
    "purchase_data2_df.head()"
   ]
  },
  {
   "cell_type": "markdown",
   "metadata": {},
   "source": [
    "# Total Number of Players"
   ]
  },
  {
   "cell_type": "code",
   "execution_count": 25,
   "metadata": {},
   "outputs": [
    {
     "data": {
      "text/html": [
       "<div>\n",
       "<style>\n",
       "    .dataframe thead tr:only-child th {\n",
       "        text-align: right;\n",
       "    }\n",
       "\n",
       "    .dataframe thead th {\n",
       "        text-align: left;\n",
       "    }\n",
       "\n",
       "    .dataframe tbody tr th {\n",
       "        vertical-align: top;\n",
       "    }\n",
       "</style>\n",
       "<table border=\"1\" class=\"dataframe\">\n",
       "  <thead>\n",
       "    <tr style=\"text-align: right;\">\n",
       "      <th></th>\n",
       "      <th>Players Count</th>\n",
       "    </tr>\n",
       "  </thead>\n",
       "  <tbody>\n",
       "    <tr>\n",
       "      <th>0</th>\n",
       "      <td>573</td>\n",
       "    </tr>\n",
       "    <tr>\n",
       "      <th>1</th>\n",
       "      <td>74</td>\n",
       "    </tr>\n",
       "  </tbody>\n",
       "</table>\n",
       "</div>"
      ],
      "text/plain": [
       "   Players Count\n",
       "0            573\n",
       "1             74"
      ]
     },
     "execution_count": 25,
     "metadata": {},
     "output_type": "execute_result"
    }
   ],
   "source": [
    "#count the total number of players\n",
    "players1 = purchase_data_df['SN'].unique()\n",
    "players2 = purchase_data2_df['SN'].unique()\n",
    "number_of_players = pd.DataFrame({'Players Count': [len(players1),len(players2)]})\n",
    "number_of_players\n"
   ]
  },
  {
   "cell_type": "markdown",
   "metadata": {},
   "source": [
    "# Purchasing Analysis (Total)"
   ]
  },
  {
   "cell_type": "code",
   "execution_count": 65,
   "metadata": {},
   "outputs": [
    {
     "data": {
      "text/html": [
       "<div>\n",
       "<style>\n",
       "    .dataframe thead tr:only-child th {\n",
       "        text-align: right;\n",
       "    }\n",
       "\n",
       "    .dataframe thead th {\n",
       "        text-align: left;\n",
       "    }\n",
       "\n",
       "    .dataframe tbody tr th {\n",
       "        vertical-align: top;\n",
       "    }\n",
       "</style>\n",
       "<table border=\"1\" class=\"dataframe\">\n",
       "  <thead>\n",
       "    <tr style=\"text-align: right;\">\n",
       "      <th></th>\n",
       "      <th>Average Purchase Price</th>\n",
       "      <th>Number of Unique Items</th>\n",
       "      <th>Total Number of Purchases</th>\n",
       "      <th>Total Revenue</th>\n",
       "    </tr>\n",
       "  </thead>\n",
       "  <tbody>\n",
       "    <tr>\n",
       "      <th>0</th>\n",
       "      <td>2.93</td>\n",
       "      <td>183</td>\n",
       "      <td>780</td>\n",
       "      <td>2286.33</td>\n",
       "    </tr>\n",
       "    <tr>\n",
       "      <th>1</th>\n",
       "      <td>2.92</td>\n",
       "      <td>64</td>\n",
       "      <td>78</td>\n",
       "      <td>228.10</td>\n",
       "    </tr>\n",
       "  </tbody>\n",
       "</table>\n",
       "</div>"
      ],
      "text/plain": [
       "   Average Purchase Price  Number of Unique Items  Total Number of Purchases  \\\n",
       "0                    2.93                     183                        780   \n",
       "1                    2.92                      64                         78   \n",
       "\n",
       "   Total Revenue  \n",
       "0        2286.33  \n",
       "1         228.10  "
      ]
     },
     "execution_count": 65,
     "metadata": {},
     "output_type": "execute_result"
    }
   ],
   "source": [
    "#Purchasing Analysis (Total): number of unique items, average purchase price, total number of purchases, total revenue\n",
    "#purchase_data_df - purchasing analysis\n",
    "unique_items1 = len(purchase_data_df['Item ID'].unique())\n",
    "avg_price1 = (purchase_data_df['Price'].sum()/purchase_data_df['Price'].count()).round(2)\n",
    "total_purchases1 = purchase_data_df['Price'].count()\n",
    "total_revenue1 = purchase_data_df[\"Price\"].sum()\n",
    "                    \n",
    "#purchase_data2_df - purchasing analysis\n",
    "unique_items2 = len(purchase_data2_df['Item ID'].unique())\n",
    "avg_price2 = (purchase_data2_df['Price'].sum()/purchase_data2_df['Price'].count()).round(2)\n",
    "total_purchases2 = purchase_data2_df['Price'].count()\n",
    "total_revenue2 = purchase_data2_df[\"Price\"].sum()\n",
    "\n",
    "\n",
    "\n",
    "Purchasing_analysis_df = pd.DataFrame({\"Number of Unique Items\":[unique_items1, unique_items2],\n",
    "                                       \"Average Purchase Price\":[avg_price1, avg_price2],\n",
    "                                       \"Total Number of Purchases\":[total_purchases1, total_purchases2],\n",
    "                                       \"Total Revenue\":[total_revenue1, total_revenue2]})\n",
    "Purchasing_analysis_df"
   ]
  },
  {
   "cell_type": "markdown",
   "metadata": {},
   "source": [
    "# Gender Demographics"
   ]
  },
  {
   "cell_type": "code",
   "execution_count": 72,
   "metadata": {},
   "outputs": [
    {
     "data": {
      "text/html": [
       "<div>\n",
       "<style>\n",
       "    .dataframe thead tr:only-child th {\n",
       "        text-align: right;\n",
       "    }\n",
       "\n",
       "    .dataframe thead th {\n",
       "        text-align: left;\n",
       "    }\n",
       "\n",
       "    .dataframe tbody tr th {\n",
       "        vertical-align: top;\n",
       "    }\n",
       "</style>\n",
       "<table border=\"1\" class=\"dataframe\">\n",
       "  <thead>\n",
       "    <tr style=\"text-align: right;\">\n",
       "      <th></th>\n",
       "      <th>Data_Set</th>\n",
       "      <th>Female %</th>\n",
       "      <th>Female Count</th>\n",
       "      <th>Male %</th>\n",
       "      <th>Male Count</th>\n",
       "      <th>Other %</th>\n",
       "      <th>Other_Count</th>\n",
       "    </tr>\n",
       "  </thead>\n",
       "  <tbody>\n",
       "    <tr>\n",
       "      <th>0</th>\n",
       "      <td>Purchase_Data_1</td>\n",
       "      <td>17.45%</td>\n",
       "      <td>100</td>\n",
       "      <td>81.15%</td>\n",
       "      <td>465</td>\n",
       "      <td>1.40%</td>\n",
       "      <td>8</td>\n",
       "    </tr>\n",
       "    <tr>\n",
       "      <th>1</th>\n",
       "      <td>Purchase_Data_2</td>\n",
       "      <td>17.57%</td>\n",
       "      <td>13</td>\n",
       "      <td>81.08%</td>\n",
       "      <td>60</td>\n",
       "      <td>1.35%</td>\n",
       "      <td>8</td>\n",
       "    </tr>\n",
       "  </tbody>\n",
       "</table>\n",
       "</div>"
      ],
      "text/plain": [
       "          Data_Set Female %  Female Count  Male %  Male Count Other %  \\\n",
       "0  Purchase_Data_1   17.45%           100  81.15%         465   1.40%   \n",
       "1  Purchase_Data_2   17.57%            13  81.08%          60   1.35%   \n",
       "\n",
       "   Other_Count  \n",
       "0            8  \n",
       "1            8  "
      ]
     },
     "execution_count": 72,
     "metadata": {},
     "output_type": "execute_result"
    }
   ],
   "source": [
    "#determination of gender demographics: % and count of male players, % and count of female players, % and count of others\n",
    "#creating a gender demographic table for each data set\n",
    "\n",
    "#purchase_data_df demographic informations\n",
    "full_count1 = len(players1)\n",
    "male_count1 = len(purchase_data_df[purchase_data_df['Gender']=='Male']['SN'].unique())\n",
    "female_count1 = len(purchase_data_df[purchase_data_df['Gender']=='Female']['SN'].unique())\n",
    "other_count1 = full_count1 - male_count1 - female_count1\n",
    "\n",
    "percent_male1 = (male_count1 / full_count1)*100\n",
    "percent_female1 = (female_count1 / full_count1)*100\n",
    "percent_other1 = (other_count1 / full_count1)*100\n",
    "\n",
    "#purchase_data2_df demographic informations\n",
    "full_count2 = len(players2)\n",
    "male_count2 = len(purchase_data2_df[purchase_data2_df['Gender']=='Male']['SN'].unique())\n",
    "female_count2 = len(purchase_data2_df[purchase_data2_df['Gender']=='Female']['SN'].unique())\n",
    "other_count2 = full_count2 - male_count2 - female_count2\n",
    "\n",
    "percent_male2 = (male_count2 / full_count2)*100\n",
    "percent_female2 = (female_count2 / full_count2)*100\n",
    "percent_other2 = (other_count2 / full_count2)*100\n",
    "\n",
    "#creating a dataframe to store all information\n",
    "Gender_Demographic_df = pd.DataFrame({\"Data_Set\" : [\"Purchase_Data_1\", \"Purchase_Data_2\"], \n",
    "                                       \"Male Count\" : [male_count1, male_count2], \n",
    "                                       \"Female Count\" : [female_count1,female_count2], \n",
    "                                       \"Other_Count\" : [other_count1, other_count1],\n",
    "                                      \"Male %\" : ['{:.2f}%'.format(percent_male1), '{:.2f}%'.format(percent_male2)],\n",
    "                                      \"Female %\" : ['{:.2f}%'.format(percent_female1), '{:.2f}'.format(percent_female2)],\n",
    "                                      \"Other %\" : ['{:.2f}%'.format(percent_other1), '{:.2f}'.format(percent_other2)]})\n",
    "Gender_Demographic_df\n",
    "\n"
   ]
  },
  {
   "cell_type": "markdown",
   "metadata": {},
   "source": [
    "# Purchasing Analysis (Gender)"
   ]
  },
  {
   "cell_type": "code",
   "execution_count": 69,
   "metadata": {},
   "outputs": [],
   "source": [
    "#determing a purchasing analysis per gender with the following information: Purchase Count, Average Purchase Price, Total Purchase Value, Normalized Totals\n",
    "#purchase_data_df - purchasing analysis\n",
    "male_purchase_count1 = purchase_data_df[purchase_data_df['Gender']=='Male']['Price'].count() \n",
    "female_purchase_count1 = purchase_data_df[purchase_data_df['Gender']=='Female']['Price'].count() \n",
    "other_purchase_count1 = total_purchases1 - male_purchase_count1 - female_purchase_count1\n",
    "\n",
    "male_priceavg1 = purchase_data_df[purchase_data_df[\"Gender\"] == \"Male\"]['Price'].mean()\n",
    "female_priceavg1 = purchase_data_df[purchase_data_df[\"Gender\"] == \"Female\"]['Price'].mean()\n",
    "other_priceavg1 = purchase_data_df[purchase_data_df[\"Gender\"] == \"Other / Non-Disclosed\"]['Price'].mean()\n",
    "\n",
    "male_pricetotal1 = purchase_data_df[purchase_data_df[\"Gender\"] == \"Male\"]['Price'].sum()\n",
    "female_pricetotal1 = purchase_data_df[purchase_data_df[\"Gender\"] == \"Female\"]['Price'].sum()\n",
    "other_pricetotal1 = purchase_data_df[purchase_data_df[\"Gender\"] == \"Other / Non-Disclosed\"]['Price'].sum()\n",
    "\n",
    "male_norm1 = male_pricetotal1/male_purchase_count1\n",
    "female_norm1 = female_pricetotal1/female_purchase_count1\n",
    "other_norm1 = other_pricetotal1/other_purchase_count1\n",
    "\n",
    "#purchase_data2_df - purchasing analysis\n",
    "male_purchase_count2 = purchase_data2_df[purchase_data2_df['Gender']=='Male']['Price'].count() \n",
    "female_purchase_count2 = purchase_data2_df[purchase_data2_df['Gender']=='Female']['Price'].count() \n",
    "other_purchase_count2 = total_purchases2 - male_purchase_count2 - female_purchase_count2\n",
    "\n",
    "male_priceavg2 = purchase_data2_df[purchase_data2_df[\"Gender\"] == \"Male\"]['Price'].mean()\n",
    "female_priceavg2 = purchase_data2_df[purchase_data2_df[\"Gender\"] == \"Female\"]['Price'].mean()\n",
    "other_priceavg2 = purchase_data2_df[purchase_data2_df[\"Gender\"] == \"Other / Non-Disclosed\"]['Price'].mean()\n",
    "\n",
    "male_pricetotal2 = purchase_data2_df[purchase_data2_df[\"Gender\"] == \"Male\"]['Price'].sum()\n",
    "female_pricetotal2 = purchase_data2_df[purchase_data2_df[\"Gender\"] == \"Female\"]['Price'].sum()\n",
    "other_pricetotal2 = purchase_data2_df[purchase_data2_df[\"Gender\"] == \"Other / Non-Disclosed\"]['Price'].sum()\n",
    "\n",
    "male_norm2 = male_pricetotal2/male_purchase_count2\n",
    "female_norm2 = female_pricetotal2/female_purchase_count2\n",
    "other_norm2 = other_pricetotal2/other_purchase_count2\n",
    "\n",
    "#creating a dataframe to store all information\n",
    "Purchase_Analysis_Gender_df = pd.DataFrame({"
   ]
  },
  {
   "cell_type": "code",
   "execution_count": null,
   "metadata": {
    "collapsed": true
   },
   "outputs": [],
   "source": []
  }
 ],
 "metadata": {
  "kernelspec": {
   "display_name": "Python 3",
   "language": "python",
   "name": "python3"
  },
  "language_info": {
   "codemirror_mode": {
    "name": "ipython",
    "version": 3
   },
   "file_extension": ".py",
   "mimetype": "text/x-python",
   "name": "python",
   "nbconvert_exporter": "python",
   "pygments_lexer": "ipython3",
   "version": "3.6.3"
  }
 },
 "nbformat": 4,
 "nbformat_minor": 2
}
