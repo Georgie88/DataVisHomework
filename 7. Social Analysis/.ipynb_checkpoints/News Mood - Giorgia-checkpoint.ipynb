{
 "cells": [
  {
   "cell_type": "code",
   "execution_count": 1,
   "metadata": {},
   "outputs": [],
   "source": [
    "#importing dependencies\n",
    "import tweepy\n",
    "import requests as req\n",
    "import json\n",
    "import pandas as pd\n",
    "import numpy as np\n",
    "import seaborn as sns\n",
    "import matplotlib.pyplot as plt\n",
    "from config import consumer_key, consumer_secret, access_token, access_token_secret\n",
    "\n",
    "#import vader\n",
    "from vaderSentiment.vaderSentiment import SentimentIntensityAnalyzer\n",
    "analyzer = SentimentIntensityAnalyzer()\n",
    "\n",
    "#Setup Tweepy API Authentication\n",
    "auth = tweepy.OAuthHandler(consumer_key, consumer_secret)\n",
    "auth.set_access_token(access_token, access_token_secret)\n",
    "api = tweepy.API(auth, parser=tweepy.parsers.JSONParser())"
   ]
  },
  {
   "cell_type": "code",
   "execution_count": 2,
   "metadata": {
    "collapsed": true
   },
   "outputs": [],
   "source": [
    "#determining the twitter accounts to verify\n",
    "target_accounts = ['@BBC', '@CBS', '@CNN', '@FoxNews', '@nytimes']"
   ]
  },
  {
   "cell_type": "code",
   "execution_count": 31,
   "metadata": {
    "collapsed": true
   },
   "outputs": [],
   "source": [
    "#creating the empty lists for the sentiment analysis to collect into a dataframe\n",
    "username = []\n",
    "text = []\n",
    "date = []\n",
    "compound_list = []\n",
    "positive_list = []\n",
    "negative_list = []\n",
    "neutral_list = []\n",
    "tweets_ago = []"
   ]
  },
  {
   "cell_type": "code",
   "execution_count": 44,
   "metadata": {},
   "outputs": [],
   "source": [
    "#getting the tweets text for all of those accounts\n",
    "for target_account in target_accounts:\n",
    "        \n",
    "        tweet_count = 0\n",
    "        \n",
    "        #obtaining all tweets for the page\n",
    "        public_tweets = api.search(target_account, count = 100, result_type = \"recent\")\n",
    "        #public_tweets_nice = json.dumps(public_tweets, indent=4)\n",
    "        #print(len(public_tweets_nice))\n",
    "        #print(public_tweets_nice)\n",
    "        \n",
    "        #for each tweet requested I am extracting the text and analyzing the polarity score\n",
    "        for tweet in public_tweets['statuses']:\n",
    "            \n",
    "            #updating the tweet count\n",
    "            tweet_count +=1\n",
    "            \n",
    "            #starting to collect main information for my data frame\n",
    "            username.append(target_account)\n",
    "            text.append(tweet['text'])\n",
    "            date.append(tweet['created_at'])\n",
    "            tweets_ago.append(tweet_count)\n",
    "            \n",
    "            #performing the sentiment analysis\n",
    "            final_score = analyzer.polarity_scores(tweet['text'])\n",
    "            #print(final_score)\n",
    "            \n",
    "            #I am adding the polarity score part of each tweet to the list\n",
    "            compound_list.append(final_score['compound'])\n",
    "            positive_list.append(final_score['pos'])\n",
    "            negative_list.append(final_score['neg'])\n",
    "            neutral_list.append(final_score['neu'])\n",
    "            "
   ]
  },
  {
   "cell_type": "code",
   "execution_count": 45,
   "metadata": {},
   "outputs": [
    {
     "name": "stdout",
     "output_type": "stream",
     "text": [
      "1971\n",
      "1971\n",
      "1971\n",
      "1971\n",
      "1971\n",
      "1971\n",
      "1971\n",
      "1971\n"
     ]
    }
   ],
   "source": [
    "print(len(username))\n",
    "print(len(text))\n",
    "print(len(date))\n",
    "print(len(tweets_ago))\n",
    "print(len(compound_list))\n",
    "print(len(positive_list))\n",
    "print(len(negative_list))\n",
    "print(len(neutral_list))"
   ]
  },
  {
   "cell_type": "code",
   "execution_count": 46,
   "metadata": {},
   "outputs": [
    {
     "data": {
      "text/html": [
       "<div>\n",
       "<style>\n",
       "    .dataframe thead tr:only-child th {\n",
       "        text-align: right;\n",
       "    }\n",
       "\n",
       "    .dataframe thead th {\n",
       "        text-align: left;\n",
       "    }\n",
       "\n",
       "    .dataframe tbody tr th {\n",
       "        vertical-align: top;\n",
       "    }\n",
       "</style>\n",
       "<table border=\"1\" class=\"dataframe\">\n",
       "  <thead>\n",
       "    <tr style=\"text-align: right;\">\n",
       "      <th></th>\n",
       "      <th>Account Name</th>\n",
       "      <th>Tweet Text</th>\n",
       "      <th>Tweet Date</th>\n",
       "      <th>Tweet #</th>\n",
       "      <th>Compound Score</th>\n",
       "      <th>Positive Score</th>\n",
       "      <th>Negative Score</th>\n",
       "      <th>Neutral Score</th>\n",
       "    </tr>\n",
       "  </thead>\n",
       "  <tbody>\n",
       "    <tr>\n",
       "      <th>0</th>\n",
       "      <td>@BBC</td>\n",
       "      <td>RT @MaxBlumenthal: The @BBC continues to deny ...</td>\n",
       "      <td>Tue Mar 20 03:18:40 +0000 2018</td>\n",
       "      <td>100</td>\n",
       "      <td>-0.3400</td>\n",
       "      <td>0.000</td>\n",
       "      <td>0.107</td>\n",
       "      <td>0.893</td>\n",
       "    </tr>\n",
       "    <tr>\n",
       "      <th>1</th>\n",
       "      <td>@BBC</td>\n",
       "      <td>RT @BBC: If you've still struggling to do the ...</td>\n",
       "      <td>Tue Mar 20 03:18:03 +0000 2018</td>\n",
       "      <td>100</td>\n",
       "      <td>-0.5994</td>\n",
       "      <td>0.000</td>\n",
       "      <td>0.189</td>\n",
       "      <td>0.811</td>\n",
       "    </tr>\n",
       "    <tr>\n",
       "      <th>2</th>\n",
       "      <td>@BBC</td>\n",
       "      <td>I do want to correct the article @FT .. for Ch...</td>\n",
       "      <td>Tue Mar 20 03:17:30 +0000 2018</td>\n",
       "      <td>100</td>\n",
       "      <td>-0.2575</td>\n",
       "      <td>0.055</td>\n",
       "      <td>0.099</td>\n",
       "      <td>0.846</td>\n",
       "    </tr>\n",
       "    <tr>\n",
       "      <th>3</th>\n",
       "      <td>@BBC</td>\n",
       "      <td>RT @louie4me: Cons2 #NationalSalesTax ❓#TaxRef...</td>\n",
       "      <td>Tue Mar 20 03:16:39 +0000 2018</td>\n",
       "      <td>100</td>\n",
       "      <td>0.0000</td>\n",
       "      <td>0.000</td>\n",
       "      <td>0.000</td>\n",
       "      <td>1.000</td>\n",
       "    </tr>\n",
       "    <tr>\n",
       "      <th>4</th>\n",
       "      <td>@BBC</td>\n",
       "      <td>@Tahoesquaw1 @Opinionrupter @BBC Blink blink b...</td>\n",
       "      <td>Tue Mar 20 03:16:13 +0000 2018</td>\n",
       "      <td>100</td>\n",
       "      <td>0.0000</td>\n",
       "      <td>0.000</td>\n",
       "      <td>0.000</td>\n",
       "      <td>1.000</td>\n",
       "    </tr>\n",
       "  </tbody>\n",
       "</table>\n",
       "</div>"
      ],
      "text/plain": [
       "  Account Name                                         Tweet Text  \\\n",
       "0         @BBC  RT @MaxBlumenthal: The @BBC continues to deny ...   \n",
       "1         @BBC  RT @BBC: If you've still struggling to do the ...   \n",
       "2         @BBC  I do want to correct the article @FT .. for Ch...   \n",
       "3         @BBC  RT @louie4me: Cons2 #NationalSalesTax ❓#TaxRef...   \n",
       "4         @BBC  @Tahoesquaw1 @Opinionrupter @BBC Blink blink b...   \n",
       "\n",
       "                       Tweet Date  Tweet #  Compound Score  Positive Score  \\\n",
       "0  Tue Mar 20 03:18:40 +0000 2018      100         -0.3400           0.000   \n",
       "1  Tue Mar 20 03:18:03 +0000 2018      100         -0.5994           0.000   \n",
       "2  Tue Mar 20 03:17:30 +0000 2018      100         -0.2575           0.055   \n",
       "3  Tue Mar 20 03:16:39 +0000 2018      100          0.0000           0.000   \n",
       "4  Tue Mar 20 03:16:13 +0000 2018      100          0.0000           0.000   \n",
       "\n",
       "   Negative Score  Neutral Score  \n",
       "0           0.107          0.893  \n",
       "1           0.189          0.811  \n",
       "2           0.099          0.846  \n",
       "3           0.000          1.000  \n",
       "4           0.000          1.000  "
      ]
     },
     "execution_count": 46,
     "metadata": {},
     "output_type": "execute_result"
    }
   ],
   "source": [
    "#creating a dataframe with all the information\n",
    "tweets_info = {\"Account Name\" : username, \"Tweet Text\" : text, \"Tweet Date\" : date, 'Tweet #' : tweets_ago,\n",
    "                          \"Compound Score\" : compound_list, \"Positive Score\" : positive_list, \n",
    "                           \"Negative Score\" : negative_list, \"Neutral Score\" : neutral_list}\n",
    "\n",
    "tweets_info_df = pd.DataFrame(tweets_info, columns = [\"Account Name\", \"Tweet Text\", \"Tweet Date\", \"Tweet #\", \"Compound Score\",\n",
    "                                                     \"Positive Score\", \"Negative Score\", \"Neutral Score\"])\n",
    "tweets_info_df.head()"
   ]
  },
  {
   "cell_type": "code",
   "execution_count": null,
   "metadata": {},
   "outputs": [],
   "source": [
    " \n",
    "                \n",
    "    #print the mean of each result the user\n",
    "    print('User: ' + target_account)\n",
    "    print('Compund: %s.' % np.mean(compound_list))\n",
    "    print('Positive: %s.' % np.mean(positive_list))\n",
    "    print('Negative: %s.' % np.mean(negative_list))\n",
    "    print('Neutral %s.' % np.mean(neutral_list))\n",
    "    \n",
    "    print(len(compound_list))\n",
    "    print(len(positive_list))\n",
    "    print(len(negative_list))\n",
    "    print(len(neutral_list))\n",
    "        "
   ]
  },
  {
   "cell_type": "code",
   "execution_count": null,
   "metadata": {
    "collapsed": true
   },
   "outputs": [],
   "source": []
  }
 ],
 "metadata": {
  "kernelspec": {
   "display_name": "Python 3",
   "language": "python",
   "name": "python3"
  },
  "language_info": {
   "codemirror_mode": {
    "name": "ipython",
    "version": 3
   },
   "file_extension": ".py",
   "mimetype": "text/x-python",
   "name": "python",
   "nbconvert_exporter": "python",
   "pygments_lexer": "ipython3",
   "version": "3.6.3"
  }
 },
 "nbformat": 4,
 "nbformat_minor": 2
}
