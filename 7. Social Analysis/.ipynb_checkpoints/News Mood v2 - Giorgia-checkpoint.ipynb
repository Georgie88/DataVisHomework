{
 "cells": [
  {
   "cell_type": "markdown",
   "metadata": {},
   "source": [
    "# News Mood"
   ]
  },
  {
   "cell_type": "markdown",
   "metadata": {},
   "source": [
    "Analysis Observations\n",
    "\n",
    "1.All the media sources had negative scores on the Vader Sentiments scale, but I have noted CBS has positive trend compared to the others.\n",
    "\n",
    "2.Fox News has the most negative sentiment rating while NYT and CNN are approximately on the same level.\n",
    "\n",
    "3.The tweets that had a Vader Sentiment compound score equal to 0 appeared in clumps together for each individual media source, therefore I can assume that the news to be reported did not have a large impact."
   ]
  },
  {
   "cell_type": "code",
   "execution_count": 1,
   "metadata": {
    "collapsed": true
   },
   "outputs": [],
   "source": [
    "#importing the dependencies\n",
    "import pandas as pd\n",
    "import numpy as np\n",
    "import matplotlib.pyplot as plt\n",
    "import seaborn as sns\n",
    "import json\n",
    "import tweepy\n",
    "import time\n",
    "from datetime import datetime\n",
    "\n",
    "#importing my keys and secrets\n",
    "from config import consumer_key, consumer_secret, access_token, access_token_secret\n",
    "\n",
    "#importing vader\n",
    "from vaderSentiment.vaderSentiment import SentimentIntensityAnalyzer\n",
    "analyzer = SentimentIntensityAnalyzer()"
   ]
  },
  {
   "cell_type": "code",
   "execution_count": 2,
   "metadata": {
    "collapsed": true
   },
   "outputs": [],
   "source": [
    "#Setup Tweepy API Authentication\n",
    "auth = tweepy.OAuthHandler(consumer_key, consumer_secret)\n",
    "auth.set_access_token(access_token, access_token_secret)\n",
    "api = tweepy.API(auth, parser=tweepy.parsers.JSONParser())"
   ]
  },
  {
   "cell_type": "code",
   "execution_count": 3,
   "metadata": {
    "collapsed": true
   },
   "outputs": [],
   "source": [
    "#determining the twitter accounts to verify\n",
    "target_users = [\"@BBC\", \"@CBS\", \"@CNN\", \"@FoxNews\", \"@nytimes\"]"
   ]
  },
  {
   "cell_type": "code",
   "execution_count": 4,
   "metadata": {
    "collapsed": true
   },
   "outputs": [],
   "source": [
    "#creating the empty lists for the sentiment analysis to collect into a dataframe\n",
    "username = []\n",
    "text = []\n",
    "date = []\n",
    "tweets_ago = []\n",
    "compound_list = []\n",
    "positive_list = []\n",
    "neutral_list = []\n",
    "negative_list = []"
   ]
  },
  {
   "cell_type": "code",
   "execution_count": 5,
   "metadata": {},
   "outputs": [],
   "source": [
    "# Looping through all the users\n",
    "for user in target_users:\n",
    "    \n",
    "    # Tweet count\n",
    "    tweet_count = 0\n",
    "\n",
    "    # Get the last 100 tweets\n",
    "    for x in range(5):\n",
    "        # Get all tweets from home feed\n",
    "        public_tweets = api.user_timeline(user, page=x)\n",
    "\n",
    "        # Loop through all the tweets\n",
    "        for tweet in public_tweets:\n",
    "        \n",
    "            # Incrementing tweet_count\n",
    "            tweet_count += 1\n",
    "    \n",
    "            # Adding values to list\n",
    "            username.append(user)\n",
    "            text.append(tweet['text'])\n",
    "            date.append(tweet['created_at'])\n",
    "            tweets_ago.append(tweet_count)\n",
    "    \n",
    "            # Run Vader Analysis on each tweet\n",
    "            sentiment_analysis = analyzer.polarity_scores(tweet[\"text\"])\n",
    "            #print(sentiment_analysis)\n",
    "            compound_list.append(sentiment_analysis[\"compound\"])\n",
    "            positive_list.append(sentiment_analysis[\"pos\"])\n",
    "            negative_list.append(sentiment_analysis[\"neg\"])\n",
    "            neutral_list.append(sentiment_analysis[\"neu\"])"
   ]
  },
  {
   "cell_type": "code",
   "execution_count": 6,
   "metadata": {},
   "outputs": [
    {
     "name": "stdout",
     "output_type": "stream",
     "text": [
      "500\n",
      "500\n",
      "500\n",
      "500\n",
      "500\n",
      "500\n",
      "500\n",
      "500\n"
     ]
    }
   ],
   "source": [
    "print(len(username))\n",
    "print(len(text))\n",
    "print(len(date))\n",
    "print(len(tweets_ago))\n",
    "print(len(compound_list))\n",
    "print(len(positive_list))\n",
    "print(len(negative_list))\n",
    "print(len(neutral_list))"
   ]
  },
  {
   "cell_type": "code",
   "execution_count": 7,
   "metadata": {},
   "outputs": [
    {
     "data": {
      "text/html": [
       "<div>\n",
       "<style>\n",
       "    .dataframe thead tr:only-child th {\n",
       "        text-align: right;\n",
       "    }\n",
       "\n",
       "    .dataframe thead th {\n",
       "        text-align: left;\n",
       "    }\n",
       "\n",
       "    .dataframe tbody tr th {\n",
       "        vertical-align: top;\n",
       "    }\n",
       "</style>\n",
       "<table border=\"1\" class=\"dataframe\">\n",
       "  <thead>\n",
       "    <tr style=\"text-align: right;\">\n",
       "      <th></th>\n",
       "      <th>Twitter Account</th>\n",
       "      <th>Tweet</th>\n",
       "      <th>Created Date</th>\n",
       "      <th>Tweets Ago</th>\n",
       "      <th>Compound Score</th>\n",
       "      <th>Positive Score</th>\n",
       "      <th>Neutral Score</th>\n",
       "      <th>Negative Score</th>\n",
       "    </tr>\n",
       "  </thead>\n",
       "  <tbody>\n",
       "    <tr>\n",
       "      <th>0</th>\n",
       "      <td>@BBC</td>\n",
       "      <td>Follow the dramatic and deadly series of event...</td>\n",
       "      <td>Mon Mar 19 19:33:04 +0000 2018</td>\n",
       "      <td>1</td>\n",
       "      <td>-0.3818</td>\n",
       "      <td>0.000</td>\n",
       "      <td>0.890</td>\n",
       "      <td>0.110</td>\n",
       "    </tr>\n",
       "    <tr>\n",
       "      <th>1</th>\n",
       "      <td>@BBC</td>\n",
       "      <td>Leonardo DiCaprio stars in the true story of a...</td>\n",
       "      <td>Mon Mar 19 18:33:05 +0000 2018</td>\n",
       "      <td>2</td>\n",
       "      <td>0.1531</td>\n",
       "      <td>0.175</td>\n",
       "      <td>0.709</td>\n",
       "      <td>0.116</td>\n",
       "    </tr>\n",
       "    <tr>\n",
       "      <th>2</th>\n",
       "      <td>@BBC</td>\n",
       "      <td>😂📸 @AlanCarr learned the hard way that you onl...</td>\n",
       "      <td>Mon Mar 19 18:03:01 +0000 2018</td>\n",
       "      <td>3</td>\n",
       "      <td>-0.1027</td>\n",
       "      <td>0.000</td>\n",
       "      <td>0.920</td>\n",
       "      <td>0.080</td>\n",
       "    </tr>\n",
       "    <tr>\n",
       "      <th>3</th>\n",
       "      <td>@BBC</td>\n",
       "      <td>🎤Pop band @FifthHarmony have announced they're...</td>\n",
       "      <td>Mon Mar 19 17:30:08 +0000 2018</td>\n",
       "      <td>4</td>\n",
       "      <td>0.0000</td>\n",
       "      <td>0.000</td>\n",
       "      <td>1.000</td>\n",
       "      <td>0.000</td>\n",
       "    </tr>\n",
       "    <tr>\n",
       "      <th>4</th>\n",
       "      <td>@BBC</td>\n",
       "      <td>Murder. Innocence. Lies. \\n\\n@AgathaChristie c...</td>\n",
       "      <td>Mon Mar 19 17:00:05 +0000 2018</td>\n",
       "      <td>5</td>\n",
       "      <td>-0.7096</td>\n",
       "      <td>0.144</td>\n",
       "      <td>0.442</td>\n",
       "      <td>0.414</td>\n",
       "    </tr>\n",
       "  </tbody>\n",
       "</table>\n",
       "</div>"
      ],
      "text/plain": [
       "  Twitter Account                                              Tweet  \\\n",
       "0            @BBC  Follow the dramatic and deadly series of event...   \n",
       "1            @BBC  Leonardo DiCaprio stars in the true story of a...   \n",
       "2            @BBC  😂📸 @AlanCarr learned the hard way that you onl...   \n",
       "3            @BBC  🎤Pop band @FifthHarmony have announced they're...   \n",
       "4            @BBC  Murder. Innocence. Lies. \\n\\n@AgathaChristie c...   \n",
       "\n",
       "                     Created Date  Tweets Ago  Compound Score  Positive Score  \\\n",
       "0  Mon Mar 19 19:33:04 +0000 2018           1         -0.3818           0.000   \n",
       "1  Mon Mar 19 18:33:05 +0000 2018           2          0.1531           0.175   \n",
       "2  Mon Mar 19 18:03:01 +0000 2018           3         -0.1027           0.000   \n",
       "3  Mon Mar 19 17:30:08 +0000 2018           4          0.0000           0.000   \n",
       "4  Mon Mar 19 17:00:05 +0000 2018           5         -0.7096           0.144   \n",
       "\n",
       "   Neutral Score  Negative Score  \n",
       "0          0.890           0.110  \n",
       "1          0.709           0.116  \n",
       "2          0.920           0.080  \n",
       "3          1.000           0.000  \n",
       "4          0.442           0.414  "
      ]
     },
     "execution_count": 7,
     "metadata": {},
     "output_type": "execute_result"
    }
   ],
   "source": [
    "# Creating dictionary for DataFrame\n",
    "tweet_info = {\"Twitter Account\": username, \"Tweet\": text, \"Created Date\": date, \"Tweets Ago\": tweets_ago, \n",
    "              \"Compound Score\": compound_list,\"Positive Score\": positive_list, \"Neutral Score\": neutral_list, \n",
    "              \"Negative Score\": negative_list,\n",
    "              }\n",
    "\n",
    "tweets_info_df = pd.DataFrame(tweet_info, columns = ['Twitter Account', 'Tweet', 'Created Date', 'Tweets Ago', \n",
    "                                                'Compound Score', 'Positive Score', 'Neutral Score', 'Negative Score'])\n",
    "tweets_info_df.head()"
   ]
  },
  {
   "cell_type": "code",
   "execution_count": 8,
   "metadata": {
    "collapsed": true
   },
   "outputs": [],
   "source": [
    "#exporting the dataframe created into csv\n",
    "tweets_info_df.to_csv(\"Tweets_Info.csv\", encoding=\"utf-8\", index=False)"
   ]
  },
  {
   "cell_type": "code",
   "execution_count": 9,
   "metadata": {},
   "outputs": [],
   "source": [
    "#splitting the data frame in different sections\n",
    "BBC_df = tweets_info_df[tweets_info_df[\"Twitter Account\"]==\"@BBC\"]\n",
    "CBS_df = tweets_info_df[tweets_info_df[\"Twitter Account\"]==\"@CBS\"]\n",
    "CNN_df = tweets_info_df[tweets_info_df[\"Twitter Account\"]==\"@CNN\"]\n",
    "FOX_df = tweets_info_df[tweets_info_df[\"Twitter Account\"]==\"@FoxNews\"]\n",
    "NYT_df = tweets_info_df[tweets_info_df[\"Twitter Account\"]==\"@nytimes\"]"
   ]
  },
  {
   "cell_type": "code",
   "execution_count": 32,
   "metadata": {},
   "outputs": [
    {
     "data": {
      "image/png": "[encoded data removed]",
      "text/plain": [
       "<matplotlib.figure.Figure at 0x283d74b1278>"
      ]
     },
     "metadata": {},
     "output_type": "display_data"
    }
   ],
   "source": [
    "#creating the plot for the different mini dataframes\n",
    "BBC = plt.scatter(BBC_df['Tweets Ago'], BBC_df['Compound Score'], c='c', edgecolor='k', label='BBC')\n",
    "CBS = plt.scatter(CBS_df['Tweets Ago'], CBS_df['Compound Score'], c='g', edgecolor='k', label='CBS')\n",
    "CNN = plt.scatter(CNN_df['Tweets Ago'], CNN_df['Compound Score'], c='r', edgecolor='k', label='CNN')\n",
    "FOX = plt.scatter(FOX_df['Tweets Ago'], FOX_df['Compound Score'], c='b', edgecolor='k', label='FOX')\n",
    "NYT = plt.scatter(NYT_df['Tweets Ago'], NYT_df['Compound Score'], c='g', edgecolor='k', label='NYT')\n",
    "\n",
    "#adding legend to the plot\n",
    "plt.title(\"Sentiment Analysis of Media Tweets (%s)\" % (time.strftime(\"%m/%d/%Y\")))\n",
    "plt.xlabel(\"Tweets Ago\")\n",
    "plt.xlim(105,-5)\n",
    "plt.ylabel(\"Tweet Polarity\")\n",
    "plt.ylim(-1.1,1.1)\n",
    "plt.legend(handles=[BBC,CBS,CNN,FOX,NYT],title = 'Media Sources', labels=[\"BBC\", \"CBS\", \"CNN\", \"Fox\", \"New York Times\"], \n",
    "           loc=\"center left\",bbox_to_anchor=(1,0.5))\n",
    "\n",
    "#saving the plot\n",
    "plt.savefig(\"Sentiment_Analysis_of_Tweets.png\")\n",
    "plt.show()"
   ]
  },
  {
   "cell_type": "code",
   "execution_count": 34,
   "metadata": {},
   "outputs": [
    {
     "data": {
      "text/html": [
       "<div>\n",
       "<style>\n",
       "    .dataframe thead tr:only-child th {\n",
       "        text-align: right;\n",
       "    }\n",
       "\n",
       "    .dataframe thead th {\n",
       "        text-align: left;\n",
       "    }\n",
       "\n",
       "    .dataframe tbody tr th {\n",
       "        vertical-align: top;\n",
       "    }\n",
       "</style>\n",
       "<table border=\"1\" class=\"dataframe\">\n",
       "  <thead>\n",
       "    <tr style=\"text-align: right;\">\n",
       "      <th></th>\n",
       "      <th>Twitter Account</th>\n",
       "      <th>Compound Score</th>\n",
       "    </tr>\n",
       "  </thead>\n",
       "  <tbody>\n",
       "    <tr>\n",
       "      <th>0</th>\n",
       "      <td>@BBC</td>\n",
       "      <td>0.125086</td>\n",
       "    </tr>\n",
       "    <tr>\n",
       "      <th>1</th>\n",
       "      <td>@CBS</td>\n",
       "      <td>0.336089</td>\n",
       "    </tr>\n",
       "    <tr>\n",
       "      <th>2</th>\n",
       "      <td>@CNN</td>\n",
       "      <td>-0.077646</td>\n",
       "    </tr>\n",
       "    <tr>\n",
       "      <th>3</th>\n",
       "      <td>@FoxNews</td>\n",
       "      <td>-0.173021</td>\n",
       "    </tr>\n",
       "    <tr>\n",
       "      <th>4</th>\n",
       "      <td>@nytimes</td>\n",
       "      <td>-0.098928</td>\n",
       "    </tr>\n",
       "  </tbody>\n",
       "</table>\n",
       "</div>"
      ],
      "text/plain": [
       "  Twitter Account  Compound Score\n",
       "0            @BBC        0.125086\n",
       "1            @CBS        0.336089\n",
       "2            @CNN       -0.077646\n",
       "3        @FoxNews       -0.173021\n",
       "4        @nytimes       -0.098928"
      ]
     },
     "execution_count": 34,
     "metadata": {},
     "output_type": "execute_result"
    }
   ],
   "source": [
    "# Group the data by media outlet\n",
    "groupedTwitterAccounts = tweets_info_df.groupby([\"Twitter Account\"], as_index=False)\n",
    "groupedTwitterAccounts.head()\n",
    "\n",
    "# Get the average Compound sentiment\n",
    "avgComp = groupedTwitterAccounts[\"Compound Score\"].mean()\n",
    "avgComp.head()"
   ]
  },
  {
   "cell_type": "code",
   "execution_count": 52,
   "metadata": {},
   "outputs": [
    {
     "data": {
      "image/png": "[encoded data removed]",
      "text/plain": [
       "<matplotlib.figure.Figure at 0x283d71e38d0>"
      ]
     },
     "metadata": {},
     "output_type": "display_data"
    }
   ],
   "source": [
    "#determining the arrays for the plot\n",
    "x_axis = np.arange(len(avgComp[\"Compound Score\"]))\n",
    "compound_score = avgComp[\"Compound Score\"]\n",
    "\n",
    "#creating the ticks for our bar chart's x axis\n",
    "tick_locations = [value for value in x_axis]\n",
    "\n",
    "plt.xticks(tick_locations, [\"BBC\", \"CBS\", \"CNN\", \"FOX\", \"NYT\"])\n",
    "plt.bar(x_axis, compound_score, color = ['cyan','g','r','b','y'], alpha=0.5, align=\"edge\")\n",
    "plt.xlabel(\"Networks\")\n",
    "plt.ylabel(\"Tweet Polarity\")\n",
    "plt.title(\"Overall Media Sentiment Based on Twitter (1/03/17)\")\n",
    "\n",
    "sns.set()\n",
    "plt.grid()\n",
    "plt.show()"
   ]
  },
  {
   "cell_type": "code",
   "execution_count": null,
   "metadata": {
    "collapsed": true
   },
   "outputs": [],
   "source": []
  }
 ],
 "metadata": {
  "kernelspec": {
   "display_name": "Python 3",
   "language": "python",
   "name": "python3"
  },
  "language_info": {
   "codemirror_mode": {
    "name": "ipython",
    "version": 3
   },
   "file_extension": ".py",
   "mimetype": "text/x-python",
   "name": "python",
   "nbconvert_exporter": "python",
   "pygments_lexer": "ipython3",
   "version": "3.6.3"
  }
 },
 "nbformat": 4,
 "nbformat_minor": 2
}
