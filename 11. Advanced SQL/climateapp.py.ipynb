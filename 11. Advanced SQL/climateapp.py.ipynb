{
 "cells": [
  {
   "cell_type": "code",
   "execution_count": 12,
   "metadata": {
    "collapsed": true
   },
   "outputs": [],
   "source": [
    "#importing dependencies\n",
    "import pandas as pd\n",
    "import os\n",
    "import datetime\n",
    "import matplotlib.pyplot as plt\n",
    "import numpy as np\n",
    "import time"
   ]
  },
  {
   "cell_type": "code",
   "execution_count": 16,
   "metadata": {
    "collapsed": true
   },
   "outputs": [],
   "source": [
    "#importing Python SQL toolkit and Object Relational Mapper\n",
    "from sqlalchemy import create_engine\n",
    "from sqlalchemy.orm import Session\n",
    "from sqlalchemy.ext.declarative import declarative_base\n",
    "Base = declarative_base()\n",
    "from sqlalchemy.ext.automap import automap_base\n",
    "\n",
    "from sqlalchemy import Column, Integer, String, Float, and_, Date, desc, func"
   ]
  },
  {
   "cell_type": "code",
   "execution_count": 17,
   "metadata": {
    "collapsed": true
   },
   "outputs": [],
   "source": [
    "#importing PyMySQL \n",
    "import pymysql\n",
    "pymysql.install_as_MySQLdb()\n",
    "\n",
    "#importing flask\n",
    "from flask import Flask, jsonify"
   ]
  },
  {
   "cell_type": "code",
   "execution_count": 18,
   "metadata": {
    "collapsed": true
   },
   "outputs": [],
   "source": [
    "#################################################\n",
    "# Database Setup\n",
    "#################################################\n",
    "engine = create_engine(\"sqlite:///hawaii.sqlite\")\n",
    "\n",
    "# reflect an existing database into a new model\n",
    "Base = automap_base()\n",
    "# reflect the tables\n",
    "Base.prepare(engine, reflect=True)\n",
    "\n",
    "# Create our session (link) from Python to the DB\n",
    "session = Session(engine)\n",
    "\n",
    "# Save references to the invoices and invoice_items tables\n",
    "Measurement = Base.classes.measurement\n",
    "Station = Base.classes.station"
   ]
  },
  {
   "cell_type": "code",
   "execution_count": 19,
   "metadata": {
    "collapsed": true
   },
   "outputs": [],
   "source": [
    "#################################################\n",
    "# Flask Setup\n",
    "#################################################\n",
    "app = Flask(__name__)"
   ]
  },
  {
   "cell_type": "code",
   "execution_count": 20,
   "metadata": {
    "collapsed": true
   },
   "outputs": [],
   "source": [
    "# #collecting the start and end dates of the trip\n",
    "# date_entry = input('Enter a start date for your trip in YYYY-MM-DD format: ')\n",
    "# year, month, day = map(int, date_entry.split('-'))\n",
    "# start_date = datetime.date(year, month, day)\n",
    "\n",
    "# date_entry = input('Enter an end date for your trip in YYYY-MM-DD format: ')\n",
    "# year, month, day = map(int, date_entry.split('-'))\n",
    "# end_date = datetime.date(year, month, day)"
   ]
  },
  {
   "cell_type": "code",
   "execution_count": 21,
   "metadata": {
    "collapsed": true
   },
   "outputs": [],
   "source": [
    "#obtaining a list of dates for the last 12 months\n",
    "#note that I am creating the date range with a static date (the max date of the import) as the api here does not take \n",
    "#a start/end date\n",
    "base_date = datetime.datetime.strptime('2017-08-23', \"%Y-%m-%d\")\n",
    "date_list = [base_date - datetime.timedelta(days=x) for x in range(0, 365)]\n",
    "\n",
    "\n",
    "#converting the date into strings as the dates are VARCHAR\n",
    "dates = []\n",
    "for date in date_list:\n",
    "    new_date = date.strftime(\"%Y-%m-%d\")\n",
    "    dates.append(new_date)\n",
    "    \n",
    "#print(dates)"
   ]
  },
  {
   "cell_type": "code",
   "execution_count": 22,
   "metadata": {
    "collapsed": true
   },
   "outputs": [],
   "source": [
    "#Flasks routes\n",
    "@app.route(\"/\")\n",
    "def welcome():\n",
    "\n",
    "     return (\n",
    "         f\"Avalable Routes:<br/>\"\n",
    "         f\"/api/v1.0/precipitation\"\n",
    "         f\"- Dates and temperature observations from the last year<br/>\"\n",
    "\n",
    "         f\"/api/v1.0/stations\"\n",
    "         f\"- List of stations<br/>\"\n",
    "\n",
    "         f\"/api/v1.0/tobs\"\n",
    "         f\"- Temperature Observations from the past year<br/>\"\n",
    "\n",
    "         f\"/api/v1.0/<start>\"\n",
    "         f\"- Minimum temperature, the average temperature, and the max temperature for a given start day<br/>\"\n",
    "\n",
    "         f\"/api/v1.0/<start>/<end>\"\n",
    "         f\"- Minimum temperature, the average temperature, and the max temperature for a given start-end range<br/>\"\n",
    "     )"
   ]
  },
  {
   "cell_type": "code",
   "execution_count": 23,
   "metadata": {
    "collapsed": true
   },
   "outputs": [],
   "source": [
    "@app.route(\"/api.v1.0/precipitation\")\n",
    "def precipitation():\n",
    "    \n",
    "    #querying the precipitation data\n",
    "    results = session.query(Measurement).filter(Measurement.date.in_(dates))\n",
    "    \n",
    "    prcp_data = []\n",
    "    for day in results:\n",
    "        prcp_dict = {}\n",
    "        prcp_dict[day.date] = day.prcp\n",
    "        prcp_data.append(prcp_dict)\n",
    "\n",
    "    return jsonify(prcp_data)"
   ]
  },
  {
   "cell_type": "code",
   "execution_count": 24,
   "metadata": {
    "collapsed": true
   },
   "outputs": [],
   "source": [
    "@app.route(\"/api/v1.0/stations\")\n",
    "def stations():\n",
    "\n",
    "    #querying the stations information\n",
    "    results = session.query(Station)\n",
    "\n",
    "    station_data = []\n",
    "    for station in results:\n",
    "        station_dict = {}\n",
    "        station_dict[\"Station\"] = station.station\n",
    "        station_dict[\"Name\"] = station.name\n",
    "        station_data.append(station_dict)\n",
    "\n",
    "    return jsonify(station_data)"
   ]
  },
  {
   "cell_type": "code",
   "execution_count": 25,
   "metadata": {
    "collapsed": true
   },
   "outputs": [],
   "source": [
    "@app.route(\"/api/v1.0/tobs\")\n",
    "def tobs():\n",
    "\n",
    "    #querying the temperatures info\n",
    "    results = session.query(Measurement).filter(Measurement.date.in_(dates))\n",
    "\n",
    "    temp_data = []\n",
    "    for day in results:\n",
    "        temp_dict = {}\n",
    "        temp_dict[day.date] = day.tobs\n",
    "        temp_data.append(temp_dict)\n",
    "\n",
    "    return jsonify(temp_data)"
   ]
  },
  {
   "cell_type": "code",
   "execution_count": 26,
   "metadata": {
    "collapsed": true
   },
   "outputs": [],
   "source": [
    "@app.route(\"/api/v1.0/<start>\")\n",
    "def temperature_s(start_date):\n",
    "    #setting up the start and end dates for date range of the trip\n",
    "    startDate = datetime.datetime.strptime(start_date, \"%Y-%m-%d\")\n",
    "    endDate = datetime.datetime.strptime('2018-08-23', \"%Y-%m-%d\")\n",
    "\n",
    "    #obtaining the date range\n",
    "    delta = endDate - startDate\n",
    "    date_range = []\n",
    "    for i in range(delta.days + 1):\n",
    "        date_range.append(startDate + timedelta(days=i))\n",
    "    \n",
    "    #converting the date range into strings in order to be able to query\n",
    "    date2 = []\n",
    "    for date in date_range:\n",
    "        new_date = date.strftime(\"%Y-%m-%d\")\n",
    "        date2.append(new_date)\n",
    "\n",
    "    #obtaining avg, min & max temps    \n",
    "    temp_avg = session.query(func.avg(Measurement.tobs))\\\n",
    "                .filter(Measurement.date.in_(date2))[0][0]\n",
    "    temp_min = session.query(func.min(Measurement.tobs))\\\n",
    "                .filter(Measurement.date.in_(date2))[0][0]\n",
    "    temp_max = session.query(func.max(Measurement.tobs))\\\n",
    "                .filter(Measurement.date.in_(date2))[0][0]\n",
    "\n",
    "    #creating a dict with all the temperatures per day\n",
    "    temp_dict = {}\n",
    "    temp_dict[\"Average Temperature\"] = temp_avg\n",
    "    temp_dict[\"Minimum Temperature\"] = temp_min\n",
    "    temp_dict[\"Maximum Temperature\"] = temp_max\n",
    "\n",
    "    return jsonify(temp_dict)"
   ]
  },
  {
   "cell_type": "code",
   "execution_count": 27,
   "metadata": {
    "collapsed": true
   },
   "outputs": [],
   "source": [
    "@app.route(\"/api/v1.0/<start>/<end>\")\n",
    "def temperature(start_date, end_date):\n",
    "    #setting up the start and end dates for date range of the trip\n",
    "    startDate = datetime.datetime.strptime(start_date, \"%Y-%m-%d\")\n",
    "    endDate = datetime.datetime.strptime(end_date, \"%Y-%m-%d\")\n",
    "\n",
    "    #obtaining the date range\n",
    "    delta = endDate - startDate\n",
    "    date_range = []\n",
    "    for i in range(delta.days + 1):\n",
    "        date_range.append(startDate + timedelta(days=i))\n",
    "    \n",
    "    #converting the date range into strings in order to be able to query\n",
    "    date2 = []\n",
    "    for date in date_range:\n",
    "        new_date = date.strftime(\"%Y-%m-%d\")\n",
    "        date2.append(new_date)\n",
    "\n",
    "    #obtaining avg, min & max temps    \n",
    "    temp_avg = session.query(func.avg(Measurement.tobs))\\\n",
    "                .filter(Measurement.date.in_(date2))[0][0]\n",
    "    temp_min = session.query(func.min(Measurement.tobs))\\\n",
    "                .filter(Measurement.date.in_(date2))[0][0]\n",
    "    temp_max = session.query(func.max(Measurement.tobs))\\\n",
    "                .filter(Measurement.date.in_(date2))[0][0]\n",
    "\n",
    "    #creating a dict with all the temperatures per day\n",
    "    temp_dict = {}\n",
    "    temp_dict[\"Average Temperature\"] = temp_avg\n",
    "    temp_dict[\"Minimum Temperature\"] = temp_min\n",
    "    temp_dict[\"Maximum Temperature\"] = temp_max\n",
    "\n",
    "    return jsonify(temp_dict)"
   ]
  },
  {
   "cell_type": "code",
   "execution_count": null,
   "metadata": {},
   "outputs": [
    {
     "name": "stderr",
     "output_type": "stream",
     "text": [
      " * Running on http://127.0.0.1:5000/ (Press CTRL+C to quit)\n",
      "127.0.0.1 - - [17/Apr/2018 02:34:28] \"GET / HTTP/1.1\" 200 -\n",
      "[2018-04-17 02:34:36,834] ERROR in app: Exception on /api/v1.0/precipitation [GET]\n",
      "Traceback (most recent call last):\n",
      "  File \"C:\\Users\\Giorgia\\Anaconda3\\lib\\site-packages\\flask\\app.py\", line 1982, in wsgi_app\n",
      "    response = self.full_dispatch_request()\n",
      "  File \"C:\\Users\\Giorgia\\Anaconda3\\lib\\site-packages\\flask\\app.py\", line 1614, in full_dispatch_request\n",
      "    rv = self.handle_user_exception(e)\n",
      "  File \"C:\\Users\\Giorgia\\Anaconda3\\lib\\site-packages\\flask\\app.py\", line 1517, in handle_user_exception\n",
      "    reraise(exc_type, exc_value, tb)\n",
      "  File \"C:\\Users\\Giorgia\\Anaconda3\\lib\\site-packages\\flask\\_compat.py\", line 33, in reraise\n",
      "    raise value\n",
      "  File \"C:\\Users\\Giorgia\\Anaconda3\\lib\\site-packages\\flask\\app.py\", line 1612, in full_dispatch_request\n",
      "    rv = self.dispatch_request()\n",
      "  File \"C:\\Users\\Giorgia\\Anaconda3\\lib\\site-packages\\flask\\app.py\", line 1598, in dispatch_request\n",
      "    return self.view_functions[rule.endpoint](**req.view_args)\n",
      "TypeError: temperature_s() got an unexpected keyword argument 'start'\n",
      "127.0.0.1 - - [17/Apr/2018 02:34:36] \"GET /api/v1.0/precipitation HTTP/1.1\" 500 -\n",
      "[2018-04-17 02:34:52,981] ERROR in app: Exception on /api/v1.0/stations [GET]\n",
      "Traceback (most recent call last):\n",
      "  File \"C:\\Users\\Giorgia\\Anaconda3\\lib\\site-packages\\flask\\app.py\", line 1982, in wsgi_app\n",
      "    response = self.full_dispatch_request()\n",
      "  File \"C:\\Users\\Giorgia\\Anaconda3\\lib\\site-packages\\flask\\app.py\", line 1614, in full_dispatch_request\n",
      "    rv = self.handle_user_exception(e)\n",
      "  File \"C:\\Users\\Giorgia\\Anaconda3\\lib\\site-packages\\flask\\app.py\", line 1517, in handle_user_exception\n",
      "    reraise(exc_type, exc_value, tb)\n",
      "  File \"C:\\Users\\Giorgia\\Anaconda3\\lib\\site-packages\\flask\\_compat.py\", line 33, in reraise\n",
      "    raise value\n",
      "  File \"C:\\Users\\Giorgia\\Anaconda3\\lib\\site-packages\\flask\\app.py\", line 1612, in full_dispatch_request\n",
      "    rv = self.dispatch_request()\n",
      "  File \"C:\\Users\\Giorgia\\Anaconda3\\lib\\site-packages\\flask\\app.py\", line 1598, in dispatch_request\n",
      "    return self.view_functions[rule.endpoint](**req.view_args)\n",
      "  File \"<ipython-input-24-99b5a8a6b967>\", line 14, in stations\n",
      "    return jsonify(station_data)\n",
      "  File \"C:\\Users\\Giorgia\\Anaconda3\\lib\\site-packages\\flask\\json.py\", line 263, in jsonify\n",
      "    (dumps(data, indent=indent, separators=separators), '\\n'),\n",
      "  File \"C:\\Users\\Giorgia\\Anaconda3\\lib\\site-packages\\flask\\json.py\", line 123, in dumps\n",
      "    rv = _json.dumps(obj, **kwargs)\n",
      "  File \"C:\\Users\\Giorgia\\Anaconda3\\lib\\json\\__init__.py\", line 238, in dumps\n",
      "    **kw).encode(obj)\n",
      "  File \"C:\\Users\\Giorgia\\Anaconda3\\lib\\json\\encoder.py\", line 201, in encode\n",
      "    chunks = list(chunks)\n",
      "  File \"C:\\Users\\Giorgia\\Anaconda3\\lib\\json\\encoder.py\", line 428, in _iterencode\n",
      "    yield from _iterencode_list(o, _current_indent_level)\n",
      "  File \"C:\\Users\\Giorgia\\Anaconda3\\lib\\json\\encoder.py\", line 325, in _iterencode_list\n",
      "    yield from chunks\n",
      "  File \"C:\\Users\\Giorgia\\Anaconda3\\lib\\json\\encoder.py\", line 404, in _iterencode_dict\n",
      "    yield from chunks\n",
      "  File \"C:\\Users\\Giorgia\\Anaconda3\\lib\\json\\encoder.py\", line 437, in _iterencode\n",
      "    o = _default(o)\n",
      "  File \"C:\\Users\\Giorgia\\Anaconda3\\lib\\site-packages\\flask\\json.py\", line 80, in default\n",
      "    return _json.JSONEncoder.default(self, o)\n",
      "  File \"C:\\Users\\Giorgia\\Anaconda3\\lib\\json\\encoder.py\", line 180, in default\n",
      "    o.__class__.__name__)\n",
      "TypeError: Object of type 'bytes' is not JSON serializable\n",
      "127.0.0.1 - - [17/Apr/2018 02:34:52] \"GET /api/v1.0/stations HTTP/1.1\" 500 -\n"
     ]
    }
   ],
   "source": [
    "if __name__ == '__main__':\n",
    "    app.run()"
   ]
  },
  {
   "cell_type": "code",
   "execution_count": null,
   "metadata": {
    "collapsed": true
   },
   "outputs": [],
   "source": []
  }
 ],
 "metadata": {
  "kernelspec": {
   "display_name": "Python 3",
   "language": "python",
   "name": "python3"
  },
  "language_info": {
   "codemirror_mode": {
    "name": "ipython",
    "version": 3
   },
   "file_extension": ".py",
   "mimetype": "text/x-python",
   "name": "python",
   "nbconvert_exporter": "python",
   "pygments_lexer": "ipython3",
   "version": "3.6.3"
  }
 },
 "nbformat": 4,
 "nbformat_minor": 2
}
