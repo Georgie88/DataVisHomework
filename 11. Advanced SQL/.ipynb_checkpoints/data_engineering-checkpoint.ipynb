{
 "cells": [
  {
   "cell_type": "markdown",
   "metadata": {},
   "source": [
    "# Step 1 - Data Engineering"
   ]
  },
  {
   "cell_type": "code",
   "execution_count": 1,
   "metadata": {
    "collapsed": true
   },
   "outputs": [],
   "source": [
    "#import dependencies\n",
    "import pandas as pd\n",
    "import os"
   ]
  },
  {
   "cell_type": "code",
   "execution_count": 2,
   "metadata": {
    "collapsed": true
   },
   "outputs": [],
   "source": [
    "#determine the file to import\n",
    "file1 = 'Resources/hawaii_measurements.csv'\n",
    "file2 = 'Resources/hawaii_stations.csv'"
   ]
  },
  {
   "cell_type": "code",
   "execution_count": 9,
   "metadata": {},
   "outputs": [
    {
     "name": "stdout",
     "output_type": "stream",
     "text": [
      "       station        date  prcp  tobs\n",
      "0  USC00519397  2010-01-01  0.08    65\n",
      "1  USC00519397  2010-01-02  0.00    63\n",
      "2  USC00519397  2010-01-03  0.00    74\n",
      "3  USC00519397  2010-01-04  0.00    76\n",
      "4  USC00519397  2010-01-06   NaN    73\n",
      "<class 'pandas.core.frame.DataFrame'>\n",
      "RangeIndex: 19550 entries, 0 to 19549\n",
      "Data columns (total 4 columns):\n",
      "station    19550 non-null object\n",
      "date       19550 non-null object\n",
      "prcp       18103 non-null float64\n",
      "tobs       19550 non-null int64\n",
      "dtypes: float64(1), int64(1), object(2)\n",
      "memory usage: 611.0+ KB\n",
      "None\n"
     ]
    }
   ],
   "source": [
    "#importing file 1 into a Dataframe\n",
    "HI_measurement_df = pd.read_csv(file1)\n",
    "print(HI_measurement_df.head())\n",
    "print(HI_measurement_df.info())"
   ]
  },
  {
   "cell_type": "code",
   "execution_count": 10,
   "metadata": {},
   "outputs": [
    {
     "name": "stdout",
     "output_type": "stream",
     "text": [
      "<bound method NDFrame.head of        station                                    name  latitude  longitude  \\\n",
      "0  USC00519397                    WAIKIKI 717.2, HI US  21.27160 -157.81680   \n",
      "1  USC00513117                    KANEOHE 838.1, HI US  21.42340 -157.80150   \n",
      "2  USC00514830  KUALOA RANCH HEADQUARTERS 886.9, HI US  21.52130 -157.83740   \n",
      "3  USC00517948                       PEARL CITY, HI US  21.39340 -157.97510   \n",
      "4  USC00518838              UPPER WAHIAWA 874.3, HI US  21.49920 -158.01110   \n",
      "5  USC00519523      WAIMANALO EXPERIMENTAL FARM, HI US  21.33556 -157.71139   \n",
      "6  USC00519281                     WAIHEE 837.5, HI US  21.45167 -157.84889   \n",
      "7  USC00511918       HONOLULU OBSERVATORY 702.2, HI US  21.31520 -157.99920   \n",
      "8  USC00516128            MANOA LYON ARBO 785.2, HI US  21.33310 -157.80250   \n",
      "\n",
      "   elevation  \n",
      "0        3.0  \n",
      "1       14.6  \n",
      "2        7.0  \n",
      "3       11.9  \n",
      "4      306.6  \n",
      "5       19.5  \n",
      "6       32.9  \n",
      "7        0.9  \n",
      "8      152.4  >\n",
      "<class 'pandas.core.frame.DataFrame'>\n",
      "RangeIndex: 9 entries, 0 to 8\n",
      "Data columns (total 5 columns):\n",
      "station      9 non-null object\n",
      "name         9 non-null object\n",
      "latitude     9 non-null float64\n",
      "longitude    9 non-null float64\n",
      "elevation    9 non-null float64\n",
      "dtypes: float64(3), object(2)\n",
      "memory usage: 440.0+ bytes\n",
      "None\n"
     ]
    }
   ],
   "source": [
    "#importing file 2 into a Dataframe\n",
    "HI_stations_df = pd.read_csv(file2)\n",
    "print(HI_stations_df.head)\n",
    "print(HI_stations_df.info())"
   ]
  },
  {
   "cell_type": "markdown",
   "metadata": {},
   "source": [
    "I did not clean up the second file as there were no NaN columns"
   ]
  },
  {
   "cell_type": "code",
   "execution_count": 8,
   "metadata": {},
   "outputs": [
    {
     "data": {
      "text/html": [
       "<div>\n",
       "<style>\n",
       "    .dataframe thead tr:only-child th {\n",
       "        text-align: right;\n",
       "    }\n",
       "\n",
       "    .dataframe thead th {\n",
       "        text-align: left;\n",
       "    }\n",
       "\n",
       "    .dataframe tbody tr th {\n",
       "        vertical-align: top;\n",
       "    }\n",
       "</style>\n",
       "<table border=\"1\" class=\"dataframe\">\n",
       "  <thead>\n",
       "    <tr style=\"text-align: right;\">\n",
       "      <th></th>\n",
       "      <th>station</th>\n",
       "      <th>date</th>\n",
       "      <th>prcp</th>\n",
       "      <th>tobs</th>\n",
       "    </tr>\n",
       "  </thead>\n",
       "  <tbody>\n",
       "    <tr>\n",
       "      <th>0</th>\n",
       "      <td>USC00519397</td>\n",
       "      <td>2010-01-01</td>\n",
       "      <td>0.08</td>\n",
       "      <td>65</td>\n",
       "    </tr>\n",
       "    <tr>\n",
       "      <th>1</th>\n",
       "      <td>USC00519397</td>\n",
       "      <td>2010-01-02</td>\n",
       "      <td>0.00</td>\n",
       "      <td>63</td>\n",
       "    </tr>\n",
       "    <tr>\n",
       "      <th>2</th>\n",
       "      <td>USC00519397</td>\n",
       "      <td>2010-01-03</td>\n",
       "      <td>0.00</td>\n",
       "      <td>74</td>\n",
       "    </tr>\n",
       "    <tr>\n",
       "      <th>3</th>\n",
       "      <td>USC00519397</td>\n",
       "      <td>2010-01-04</td>\n",
       "      <td>0.00</td>\n",
       "      <td>76</td>\n",
       "    </tr>\n",
       "    <tr>\n",
       "      <th>4</th>\n",
       "      <td>USC00519397</td>\n",
       "      <td>2010-01-06</td>\n",
       "      <td>0.00</td>\n",
       "      <td>73</td>\n",
       "    </tr>\n",
       "  </tbody>\n",
       "</table>\n",
       "</div>"
      ],
      "text/plain": [
       "       station        date  prcp  tobs\n",
       "0  USC00519397  2010-01-01  0.08    65\n",
       "1  USC00519397  2010-01-02  0.00    63\n",
       "2  USC00519397  2010-01-03  0.00    74\n",
       "3  USC00519397  2010-01-04  0.00    76\n",
       "4  USC00519397  2010-01-06  0.00    73"
      ]
     },
     "execution_count": 8,
     "metadata": {},
     "output_type": "execute_result"
    }
   ],
   "source": [
    "#decided to fill NAN values with 0 in the measurement file \n",
    "HI_measurement_clean_df = HI_measurement_df.copy()\n",
    "HI_measurement_clean_df.fillna(0, inplace=True)\n",
    "HI_measurement_clean_df.head()"
   ]
  },
  {
   "cell_type": "code",
   "execution_count": 7,
   "metadata": {
    "collapsed": true
   },
   "outputs": [],
   "source": [
    "#exporting the cleaned file from Nan\n",
    "HI_measurement_clean_df.to_csv('Resources/hawaii_measurements_clean.csv')\n",
    "HI_stations_df.to_csv('Resources/hawaii_stations_clean.csv')"
   ]
  },
  {
   "cell_type": "code",
   "execution_count": null,
   "metadata": {
    "collapsed": true
   },
   "outputs": [],
   "source": []
  }
 ],
 "metadata": {
  "kernelspec": {
   "display_name": "Python 3",
   "language": "python",
   "name": "python3"
  },
  "language_info": {
   "codemirror_mode": {
    "name": "ipython",
    "version": 3
   },
   "file_extension": ".py",
   "mimetype": "text/x-python",
   "name": "python",
   "nbconvert_exporter": "python",
   "pygments_lexer": "ipython3",
   "version": "3.6.3"
  }
 },
 "nbformat": 4,
 "nbformat_minor": 2
}
